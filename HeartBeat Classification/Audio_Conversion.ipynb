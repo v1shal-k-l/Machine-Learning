{
  "nbformat": 4,
  "nbformat_minor": 0,
  "metadata": {
    "colab": {
      "provenance": []
    },
    "kernelspec": {
      "name": "python3",
      "display_name": "Python 3"
    },
    "language_info": {
      "name": "python"
    }
  },
  "cells": [
    {
      "cell_type": "code",
      "execution_count": 2,
      "metadata": {
        "id": "bSOw2DCSAb_O"
      },
      "outputs": [],
      "source": [
        "import librosa\n",
        "import pathlib\n",
        "import pandas as pd\n",
        "import numpy as np\n",
        "import matplotlib.pyplot as plt\n",
        "%matplotlib inline\n",
        "import os\n",
        "from PIL import Image\n",
        "import pathlib\n",
        "import csv\n",
        "warnings.filterwarnings('ignore')\n",
        "import pathlib\n"
      ]
    },
    {
      "cell_type": "markdown",
      "source": [
        "# New Section"
      ],
      "metadata": {
        "id": "ua-4TDY2NvQb"
      }
    },
    {
      "cell_type": "code",
      "source": [
        "cmap = plt.get_cmap('inferno')\n",
        "plt.figure(figsize=(8,8))\n",
        "train = ' ESM ESMm MDR Murmurs1 Murmurs Others PSM PSMm diastolic systolic '.split()\n",
        "for t in train:\n",
        "    pathlib.Path(f'img_data/{t}').mkdir(parents=True, exist_ok=True)\n",
        "    for filename in os.listdir (f'/content/drive/MyDrive/Mysteth/{t}'):\n",
        "        test_data = f'/content/drive/MyDrive/Mysteth/{t}/{filename}'\n",
        "        y,sr = librosa.load(test_data, mono=True)\n",
        "        plt.specgram(y, NFFT=256, Fs=2, Fc=0, noverlap=128, cmap=cmap, sides='default', mode='default', scale='dB');\n",
        "        plt.axis('off');\n",
        "        plt.savefig(f'img_data/{t}/{filename[:-3].replace(\".\", \"\")}.png')\n",
        "        plt.clf()"
      ],
      "metadata": {
        "id": "GdYESw2jL1pO",
        "colab": {
          "base_uri": "https://localhost:8080/",
          "height": 34
        },
        "outputId": "3eeecea1-8de2-48ef-9dd4-64ea84a0b4f4"
      },
      "execution_count": 4,
      "outputs": [
        {
          "output_type": "display_data",
          "data": {
            "text/plain": [
              "<Figure size 800x800 with 0 Axes>"
            ]
          },
          "metadata": {}
        }
      ]
    },
    {
      "cell_type": "code",
      "source": [
        "header = 'filename chroma_stft rmse spectral_centroid spectral_bandwidth rolloff zero_crossing_rate'\n",
        "for i in range(1,5):\n",
        "    header += f' mfcc{i}'\n",
        "header += ' label'\n",
        "header = header.split()"
      ],
      "metadata": {
        "id": "f5Ck7pmtc8q5"
      },
      "execution_count": 5,
      "outputs": []
    },
    {
      "cell_type": "code",
      "source": [
        "file = open('RSH.csv', 'w', newline='')\n",
        "with file:\n",
        "    writer = csv.writer(file)\n",
        "    writer.writerow(header)\n",
        "for t in train :\n",
        "    for filename in os.listdir(f'/content/drive/MyDrive/Mysteth/{t}'):\n",
        "        test_data = f'/content/drive/MyDrive/Mysteth/{t}/{filename}'\n",
        "        y, sr = librosa.load(test_data, mono=True, duration=30)\n",
        "        rmse = librosa.feature.rms(y=y)[0]\n",
        "        chroma_stft = librosa.feature.chroma_stft(y=y, sr=sr)\n",
        "        spec_cent = librosa.feature.spectral_centroid(y=y, sr=sr)\n",
        "        spec_bw = librosa.feature.spectral_bandwidth(y=y, sr=sr)\n",
        "        rolloff = librosa.feature.spectral_rolloff(y=y, sr=sr)\n",
        "        zcr = librosa.feature.zero_crossing_rate(y)\n",
        "        mfcc = librosa.feature.mfcc(y=y, sr=sr)\n",
        "        to_append = f'{filename} {np.mean(chroma_stft)} {np.mean(rmse)} {np.mean(spec_cent)} {np.mean(spec_bw)} {np.mean(rolloff)} {np.mean(zcr)}'\n",
        "        for e in mfcc:\n",
        "            to_append += f' {np.mean(e)}'\n",
        "        to_append += f' {t}'\n",
        "        file = open('RSH.csv', 'a', newline='')\n",
        "        with file:\n",
        "            writer = csv.writer(file)\n",
        "            writer.writerow(to_append.split())"
      ],
      "metadata": {
        "id": "bnoo4exdcRY7"
      },
      "execution_count": 7,
      "outputs": []
    }
  ]
}